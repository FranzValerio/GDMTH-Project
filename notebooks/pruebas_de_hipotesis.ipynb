{
 "cells": [
  {
   "cell_type": "code",
   "execution_count": 1,
   "metadata": {},
   "outputs": [],
   "source": [
    "import pandas as pd\n",
    "from scipy import stats"
   ]
  },
  {
   "cell_type": "code",
   "execution_count": 2,
   "metadata": {},
   "outputs": [],
   "source": [
    "region = pd.read_csv('C:/Users/franz/Desktop/ATCO/cfe-web-scraping/data/region.csv', encoding = 'ISO-8859-1')\n",
    "infra_data = pd.read_csv('C:/Users/franz/Desktop/ATCO/cfe-web-scraping/data/infraestructura_2021.csv')\n",
    "tarifas_data = pd.read_csv('C:/Users/franz/Desktop/ATCO/cfe-web-scraping/data/tarifas_2021.csv')\n",
    "\n",
    "merged_data = pd.merge(tarifas_data, infra_data, on = 'id_region', how = 'inner')\n",
    "merged_data = pd.merge(merged_data, region, on = 'id_region', how = 'inner')"
   ]
  },
  {
   "cell_type": "code",
   "execution_count": 3,
   "metadata": {},
   "outputs": [
    {
     "data": {
      "text/plain": [
       "array(['BAJÍO', 'BAJA CALIFORNIA', 'BAJA CALIFORNIA SUR', 'PENINSULAR',\n",
       "       'SURESTE', 'NORTE', 'VALLE DE MÉXICO CENTRO',\n",
       "       'VALLE DE MÉXICO CENTRO Y SUR', 'VALLE DE MÉXICO SUR',\n",
       "       'VALLE DE MÉXICO NORTE Y CENTRO',\n",
       "       'VALLE DE MÉXICO NORTE, CENTRO Y SUR', 'GOLFO NORTE',\n",
       "       'GOLFO NORTE Y NORTE', 'BAJÍO Y NORTE',\n",
       "       'BAJÍO Y GOLFO NORTE Y NORTE', 'BAJÍO Y GOLFO NORTE',\n",
       "       'CENTRO OCCIDENTE', 'NOROESTE Y NORTE', 'CENTRO SUR',\n",
       "       'VALLE DE MÉXICO NORTE', 'VALLE DE MÉXICO SUR Y CENTRO ORIENTE',\n",
       "       'BAJÍO Y GOLFO CENTRO', 'CENTRO ORIENTE', 'GOLFO CENTRO',\n",
       "       'GOLFO CENTRO Y ORIENTE', 'JALISCO', 'CENTRO OCCIDENTE Y JALISCO',\n",
       "       'GOLFO CENTRO Y GOLFO NORTE', 'ORIENTE', 'NOROESTE'], dtype=object)"
      ]
     },
     "execution_count": 3,
     "metadata": {},
     "output_type": "execute_result"
    }
   ],
   "source": [
    "merged_data['division'].unique()"
   ]
  },
  {
   "cell_type": "code",
   "execution_count": 4,
   "metadata": {},
   "outputs": [],
   "source": [
    "group_1 = merged_data[merged_data['division'] == 'BAJÍO']['base']\n",
    "group_2 = merged_data[merged_data['division'] == 'NORTE']['base']\n"
   ]
  },
  {
   "cell_type": "code",
   "execution_count": 6,
   "metadata": {},
   "outputs": [
    {
     "name": "stdout",
     "output_type": "stream",
     "text": [
      "T-statistic: 45.05814325550978, P-value: 0.0\n"
     ]
    }
   ],
   "source": [
    "# Prueba t de Student para comparar las medias entre las dos divisiones\n",
    "\n",
    "t_stat, p_val = stats.ttest_ind(group_1, group_2, equal_var=False)\n",
    "\n",
    "print(f\"T-statistic: {t_stat}, P-value: {p_val}\")"
   ]
  },
  {
   "cell_type": "code",
   "execution_count": 7,
   "metadata": {},
   "outputs": [],
   "source": [
    "group_1_inter = merged_data[merged_data['division'] == 'BAJÍO']['intermedia']\n",
    "group_2_inter = merged_data[merged_data['division'] == 'NORTE']['intermedia']\n"
   ]
  },
  {
   "cell_type": "code",
   "execution_count": 8,
   "metadata": {},
   "outputs": [
    {
     "name": "stdout",
     "output_type": "stream",
     "text": [
      "T-statistic: 192.81516539305733, P-value: 0.0\n"
     ]
    }
   ],
   "source": [
    "t_stat_inter, p_val_inter = stats.ttest_ind(group_1_inter, group_2_inter, equal_var=False)\n",
    "\n",
    "print(f\"T-statistic: {t_stat_inter}, P-value: {p_val_inter}\")"
   ]
  }
 ],
 "metadata": {
  "kernelspec": {
   "display_name": ".venv",
   "language": "python",
   "name": "python3"
  },
  "language_info": {
   "codemirror_mode": {
    "name": "ipython",
    "version": 3
   },
   "file_extension": ".py",
   "mimetype": "text/x-python",
   "name": "python",
   "nbconvert_exporter": "python",
   "pygments_lexer": "ipython3",
   "version": "3.10.11"
  }
 },
 "nbformat": 4,
 "nbformat_minor": 2
}
